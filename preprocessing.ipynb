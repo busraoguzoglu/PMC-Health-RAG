{
 "cells": [
  {
   "cell_type": "markdown",
   "metadata": {},
   "source": [
    "# Document Preprocessing"
   ]
  },
  {
   "cell_type": "code",
   "execution_count": null,
   "metadata": {},
   "outputs": [],
   "source": [
    "import fitz  # pip install PyMuPDF\n",
    "\n",
    "doc = fitz.open(\"Papers/hoac009.pdf\")\n",
    "content = []"
   ]
  },
  {
   "cell_type": "code",
   "execution_count": null,
   "metadata": {},
   "outputs": [],
   "source": [
    "for page_num in range(len(doc)):\n",
    "    page = doc.load_page(page_num)\n",
    "    blocks = page.get_text(\"dict\")[\"blocks\"]\n",
    "\n",
    "    for block in blocks:\n",
    "        if block[\"type\"] == 0:  # text\n",
    "            block_text = \"\"\n",
    "            for line in block[\"lines\"]:\n",
    "                for span in line[\"spans\"]:\n",
    "                    block_text += span[\"text\"] + \" \"\n",
    "            content.append({\n",
    "                \"type\": \"text\",\n",
    "                \"content\": block_text.strip(),\n",
    "                \"bbox\": block[\"bbox\"], \n",
    "                \"page_num\": page_num\n",
    "            })\n",
    "        elif block[\"type\"] == 1:  # image\n",
    "            image_ext = block[\"ext\"]\n",
    "            image_filename = f\"images/image_{page_num}_{block['number']}.{image_ext}\"\n",
    "            with open(image_filename, \"wb\") as img_file:\n",
    "                    img_file.write(block[\"image\"])\n",
    "            content.append({\n",
    "                \"type\": \"image\",\n",
    "                \"content\": image_filename,\n",
    "                \"bbox\": block[\"bbox\"], \n",
    "                \"page_num\": page_num\n",
    "            })"
   ]
  },
  {
   "cell_type": "code",
   "execution_count": null,
   "metadata": {},
   "outputs": [],
   "source": [
    "content.sort(key=lambda x: (x[\"page_num\"], x[\"bbox\"][1])) # sort by page, y0 (y axis of top-left corner)\n",
    "\n",
    "for item in content:\n",
    "    if item[\"type\"] == \"text\":\n",
    "        print(f\"Text: {item['content']}\")\n",
    "    elif item[\"type\"] == \"image\":\n",
    "        print(f\"Image: {item['content']}\")"
   ]
  }
 ],
 "metadata": {
  "language_info": {
   "name": "python"
  }
 },
 "nbformat": 4,
 "nbformat_minor": 2
}
